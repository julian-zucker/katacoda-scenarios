{
  "cells": [
    {
      "cell_type": "markdown",
      "source": "We\u0027ve done `intersects()`. Next, we\u0027re going to write `__iter__()`. `__iter__()` will return an iterator, which must have methods ` __iter__(returning itself) and __next__`. [This link](https://wiki.python.org/moin/Iterator) may be helpful. For this case, we know we will need an iterator object, so we set aside our main code to write the other object. \n\n`__iter__` will allow us to use for loops over our ranges! Like this:\n```\nfor i in Range(1, 3, 1):\n    print(i)\n\n# 1\n# 2   \n```",
      "metadata": {
        "pycharm": {
          "metadata": false
        }
      }
    },
    {
      "cell_type": "code",
      "execution_count": 8,
      "outputs": [
        {
          "traceback": [
            "\u001b[0;31m---------------------------------------------------------------------------\u001b[0m",
            "\u001b[0;31mAssertionError\u001b[0m                            Traceback (most recent call last)",
            "\u001b[0;32m\u003cipython-input-8-b0b3258f5b2c\u003e\u001b[0m in \u001b[0;36m\u003cmodule\u003e\u001b[0;34m\u001b[0m\n\u001b[1;32m     14\u001b[0m \u001b[0;31m# Some sample tests: you will want to write more\u001b[0m\u001b[0;34m\u001b[0m\u001b[0;34m\u001b[0m\u001b[0;34m\u001b[0m\u001b[0m\n\u001b[1;32m     15\u001b[0m \u001b[0mitr\u001b[0m \u001b[0;34m\u003d\u001b[0m \u001b[0mRangeIterator\u001b[0m\u001b[0;34m(\u001b[0m\u001b[0;36m0\u001b[0m\u001b[0;34m,\u001b[0m \u001b[0;36m3\u001b[0m\u001b[0;34m,\u001b[0m \u001b[0;36m1\u001b[0m\u001b[0;34m)\u001b[0m\u001b[0;34m\u001b[0m\u001b[0;34m\u001b[0m\u001b[0m\n\u001b[0;32m---\u003e 16\u001b[0;31m \u001b[0;32massert\u001b[0m \u001b[0mnext\u001b[0m\u001b[0;34m(\u001b[0m\u001b[0mitr\u001b[0m\u001b[0;34m)\u001b[0m \u001b[0;34m\u003d\u003d\u001b[0m \u001b[0;36m0\u001b[0m\u001b[0;34m\u001b[0m\u001b[0;34m\u001b[0m\u001b[0m\n\u001b[0m\u001b[1;32m     17\u001b[0m \u001b[0;32massert\u001b[0m \u001b[0mnext\u001b[0m\u001b[0;34m(\u001b[0m\u001b[0mitr\u001b[0m\u001b[0;34m)\u001b[0m \u001b[0;34m\u003d\u003d\u001b[0m \u001b[0;36m1\u001b[0m\u001b[0;34m\u001b[0m\u001b[0;34m\u001b[0m\u001b[0m\n\u001b[1;32m     18\u001b[0m \u001b[0;32massert\u001b[0m \u001b[0mnext\u001b[0m\u001b[0;34m(\u001b[0m\u001b[0mitr\u001b[0m\u001b[0;34m)\u001b[0m \u001b[0;34m\u003d\u003d\u001b[0m \u001b[0;36m2\u001b[0m\u001b[0;34m\u001b[0m\u001b[0;34m\u001b[0m\u001b[0m\n",
            "\u001b[0;31mAssertionError\u001b[0m: "
          ],
          "ename": "AssertionError",
          "evalue": "",
          "output_type": "error"
        }
      ],
      "source": "class RangeIterator:\n    def __init__(self, start, end, step):\n        self.start \u003d start\n        self.end \u003d end\n        self.step \u003d step\n    \n    def __iter__(self):\n        return self\n    \n    def __next__(self):\n        \"\"\"Returns the next value, or raises a StopIteration exception\"\"\"\n        pass\n    \n# Some sample tests: you will want to write more\nitr \u003d RangeIterator(0, 3, 1)\nassert next(itr) \u003d\u003d 0\nassert next(itr) \u003d\u003d 1\nassert next(itr) \u003d\u003d 2\n\ntry:\n    # This is one way to write tests for exceptions. Testing frameworks usually have a better way,\n    # but we\u0027re stuck with asserts. It won\u0027t get to the `assert False` if the exception happens.\n    next(itr)\n    assert False\nexcept StopIteration:\n    pass\n\n",
      "metadata": {
        "pycharm": {
          "metadata": false,
          "name": "#%%\n",
          "is_executing": false
        }
      }
    },
    {
      "cell_type": "code",
      "execution_count": 7,
      "outputs": [],
      "source": "from math import ceil\nclass Range:\n    def __init__(self, start, end, step):\n        self.start \u003d start\n        self.end \u003d end\n        self.step \u003d step\n    \n    def is_empty(self):\n        return len(self) \u003d\u003d 0\n    \n    def contains(self, item):\n        i \u003d self.start\n        while i \u003c self.end:\n            if i \u003d\u003d item:\n                return True\n            i +\u003d self.step\n        return False\n\n    def __len__(self):\n        return max(0, ceil((self.end - self.start) / self.step)) \n\n    def intersects(self, other):\n        i \u003d other.start\n        \n        while i \u003c other.end:\n            if self.contains(i):\n                return True\n            i +\u003d other.step\n            \n        return False\n        \n    def __iter__(self):\n        #######################################################################\n        # Your code goes here!\n        #######################################################################\n        pass\n\n\n\n# Tests for is_empty     \nassert Range(0, 0, 1).is_empty()\nassert not Range(0, 1, 1).is_empty()\nassert Range(3, 0, 1).is_empty()\n\n# Tests for contains\nassert not Range(0, 3, 1).contains(-1)\nassert Range(0, 3, 1).contains(0)\nassert Range(0, 12, 1).contains(3)\nassert Range(0, 100, 10).contains(10)\nassert not Range(0, 100, 10).contains(11)\nassert not Range(12, 0, 1).contains(1)\n\n# Tests for length\nassert len(Range(0, 0, 1)) \u003d\u003d 0\nassert len(Range(4, 7, 1)) \u003d\u003d 3\nassert len(Range(7, 4, 1)) \u003d\u003d 0\nassert len(Range(3, 4, 8)) \u003d\u003d 1\nassert len(Range(3, 7, 2)) \u003d\u003d 2\nassert len(Range(3, 8, 2)) \u003d\u003d 3\n\n# Tests for intersects\nassert Range(0, 1, 1).intersects(Range(0, 1, 1))\nassert Range(0, 3, 1).intersects(Range(0, 1, 1))\nassert Range(0, 1, 1).intersects(Range(0, 3, 1))\nassert Range(0, 3, 1).intersects(Range(0, 3, 1))\nassert not Range(1, 2, 1).intersects(Range(0, 1, 1))\nassert not Range(1, 5, 2).intersects(Range(2, 2, 1))\nassert not Range(1, 5, 2).intersects(Range(2, 3, 1))\nassert Range(1, 7, 3).intersects(Range(4, 5, 3))\nassert not Range(1, 7, 3).intersects(Range(4, 4, 3))\n\n###############################################################################\n# Your tests go here!\n###############################################################################\n",
      "metadata": {
        "pycharm": {
          "metadata": false,
          "name": "#%%\n",
          "is_executing": false
        }
      }
    }
  ],
  "metadata": {
    "language_info": {
      "codemirror_mode": {
        "name": "ipython",
        "version": 2
      },
      "file_extension": ".py",
      "mimetype": "text/x-python",
      "name": "python",
      "nbconvert_exporter": "python",
      "pygments_lexer": "ipython2",
      "version": "2.7.6"
    },
    "kernelspec": {
      "name": "python3",
      "language": "python",
      "display_name": "Python 3"
    },
    "stem_cell": {
      "cell_type": "raw",
      "source": "",
      "metadata": {
        "pycharm": {
          "metadata": false
        }
      }
    }
  },
  "nbformat": 4,
  "nbformat_minor": 0
}