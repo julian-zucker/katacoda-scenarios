{
  "cells": [
    {
      "cell_type": "markdown",
      "source": "You may be familiar with python\u0027s `range` function. We\u0027re going to implement implement one of our own! Here\u0027s what\u0027s required:\n\nRange will have a constructor, `Range(start, end, step)`, which produces a new range object. A `Range(3,7,1)` goes from 3 to 7, with steps of 1. In other words, it contains `(3,4,5,6)`. And a Range(3,7,2) goes from 3 to 7 with steps of 1, so it contains just `(3,5)`. Note that `end` is not inclusive. \n\nRange will have several methods:\n```\n# Is this range empty?\nis_empty(): bool\n\n# Returns the length of this range.\n__len__(): int\n\n# Does this range contain that number?\ncontains(int): bool\n\n# Does this range intersect that range?\nintersects(Range): bool\n\n# Returns the iterator for this range.\n__iter__(): Iterator[int]\n\n```\n\nI\u0027ll provide the constructor. Let\u0027s start writing is_empty:\n",
      "metadata": {
        "pycharm": {
          "metadata": false
        }
      }
    },
    {
      "cell_type": "code",
      "execution_count": 2,
      "outputs": [],
      "source": "class Range:\n    def __init__(self, start, end, step):\n        self.start \u003d start\n        self.end \u003d end\n        self.step \u003d step\n    \n    def is_empty(self):\n        pass\n\n",
      "metadata": {
        "pycharm": {
          "metadata": false,
          "name": "#%%\n",
          "is_executing": false
        }
      }
    },
    {
      "cell_type": "markdown",
      "source": "But we\u0027re doing test-driven development! Let\u0027s write a test, before we write the code.\n",
      "metadata": {
        "pycharm": {
          "metadata": false,
          "name": "#%% md\n"
        }
      }
    },
    {
      "cell_type": "code",
      "execution_count": 5,
      "outputs": [
        {
          "traceback": [
            "\u001b[0;31m---------------------------------------------------------------------------\u001b[0m",
            "\u001b[0;31mAssertionError\u001b[0m                            Traceback (most recent call last)",
            "\u001b[0;32m\u003cipython-input-5-0569286d046e\u003e\u001b[0m in \u001b[0;36m\u003cmodule\u003e\u001b[0;34m\u001b[0m\n\u001b[0;32m----\u003e 1\u001b[0;31m \u001b[0;32massert\u001b[0m\u001b[0;34m(\u001b[0m\u001b[0mRange\u001b[0m\u001b[0;34m(\u001b[0m\u001b[0;36m0\u001b[0m\u001b[0;34m,\u001b[0m\u001b[0;36m0\u001b[0m\u001b[0;34m,\u001b[0m\u001b[0;36m1\u001b[0m\u001b[0;34m)\u001b[0m\u001b[0;34m.\u001b[0m\u001b[0mis_empty\u001b[0m\u001b[0;34m(\u001b[0m\u001b[0;34m)\u001b[0m\u001b[0;34m)\u001b[0m\u001b[0;34m\u001b[0m\u001b[0;34m\u001b[0m\u001b[0m\n\u001b[0m\u001b[1;32m      2\u001b[0m \u001b[0;34m\u001b[0m\u001b[0m\n",
            "\u001b[0;31mAssertionError\u001b[0m: "
          ],
          "ename": "AssertionError",
          "evalue": "",
          "output_type": "error"
        }
      ],
      "source": "assert Range(0, 0, 1).is_empty()\n",
      "metadata": {
        "pycharm": {
          "metadata": false,
          "name": "#%%\n",
          "is_executing": false
        }
      }
    },
    {
      "cell_type": "markdown",
      "source": "What\u0027s the easiest way to make this test pass? Just return `True`!\n",
      "metadata": {
        "pycharm": {
          "metadata": false,
          "name": "#%% md\n"
        }
      }
    },
    {
      "cell_type": "code",
      "execution_count": 6,
      "outputs": [],
      "source": "class Range:\n    def __init__(self, start, end, step):\n        self.start \u003d start\n        self.end \u003d end\n        self.step \u003d step\n    \n    def is_empty(self):\n        return True\n\nassert Range(0, 0, 1).is_empty()\n",
      "metadata": {
        "pycharm": {
          "metadata": false,
          "name": "#%%\n",
          "is_executing": false
        }
      }
    },
    {
      "cell_type": "markdown",
      "source": "The test does in fact pass, even though the implementation is definitely not correct! But that\u0027s okay: write another test, one that will fail on the current implementation. And, fix the implementation below, so that your test passes.\n",
      "metadata": {
        "pycharm": {
          "metadata": false,
          "name": "#%% md\n"
        }
      }
    },
    {
      "cell_type": "code",
      "execution_count": 7,
      "outputs": [],
      "source": "class Range:\n    def __init__(self, start, end, step):\n        self.start \u003d start\n        self.end \u003d end\n        self.step \u003d step\n    \n    def is_empty(self):\n        return True\n\nassert Range(0, 0, 1).is_empty()\n# Insert your test here:\nassert False\n# Once you\u0027ve written that test, fix is_empty to make the test pass\n\n",
      "metadata": {
        "pycharm": {
          "metadata": false,
          "name": "#%%\n",
          "is_executing": false
        }
      }
    },
    {
      "cell_type": "markdown",
      "source": "You probably ended up with `return start \u003d\u003d end`. But that\u0027s not fully correct, either, even though it makes the current tests pass. There\u0027s a third test you need. One that will test the case when `start \u003e end`, but they aren\u0027t equal. Copy the test below into your code, and fix the implementation.",
      "metadata": {
        "pycharm": {
          "metadata": false
        }
      }
    },
    {
      "cell_type": "code",
      "execution_count": 8,
      "outputs": [],
      "source": "assert Range(3, 0, 1).is_empty()",
      "metadata": {
        "pycharm": {
          "metadata": false,
          "name": "#%%\n",
          "is_executing": false
        }
      }
    }
  ],
  "metadata": {
    "language_info": {
      "codemirror_mode": {
        "name": "ipython",
        "version": 2
      },
      "file_extension": ".py",
      "mimetype": "text/x-python",
      "name": "python",
      "nbconvert_exporter": "python",
      "pygments_lexer": "ipython2",
      "version": "2.7.6"
    },
    "kernelspec": {
      "name": "python3",
      "language": "python",
      "display_name": "Python 3"
    },
    "stem_cell": {
      "cell_type": "raw",
      "source": "",
      "metadata": {
        "pycharm": {
          "metadata": false
        }
      }
    }
  },
  "nbformat": 4,
  "nbformat_minor": 0
}