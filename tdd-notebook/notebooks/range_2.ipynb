{
  "cells": [
    {
      "cell_type": "markdown",
      "source": "Okay, so we have `is_empty()` working the way we want! Next up is `contains()`. The next cell has the code you should start from.\n",
      "metadata": {
        "pycharm": {
          "metadata": false,
          "name": "#%% md\n"
        }
      }
    },
    {
      "cell_type": "code",
      "execution_count": 2,
      "metadata": {
        "collapsed": true,
        "pycharm": {
          "is_executing": false
        }
      },
      "outputs": [],
      "source": "class Range:\n    def __init__(self, start, end, step):\n        self.start \u003d start\n        self.end \u003d end\n        self.step \u003d step\n    \n    def is_empty(self):\n        return self.start \u003e\u003d self.end\n    \n    def contains(self, item):\n        #######################################################################\n        # Your code goes here!\n        #######################################################################\n        pass\n    \n# Tests for is_empty     \nassert Range(0, 0, 1).is_empty()\nassert not Range(0, 1, 1).is_empty()\nassert Range(3, 0, 1).is_empty()\n\n# Tests for contains\n###############################################################################\n# Your tests go here!\n###############################################################################\n"
    },
    {
      "cell_type": "markdown",
      "source": "Write a minimal test for `contains()`, then the code to make it pass, then repeat! I would recommend writing these tests in this order, but it\u0027s up to you:\n  - `item` is not in this `Range` with `step \u003d\u003d 1`\n  - `item` is equal to the start of this `Range` with `step \u003d\u003d 1` is in the `Range`\n  - `item` is equal to the end of this `Range` with `step \u003d\u003d 1`, is not in the `Range`\n  - `item` is in a `Range` with `step \u003d\u003d 1`\n  - `item` is in a `Range` with `step !\u003d 1`\n  - `item` is not in a `Range` with `step !\u003d 1`\n  - `item` is not in a `Range` because `end \u003c start`",
      "metadata": {
        "pycharm": {
          "metadata": false,
          "name": "#%% md\n"
        }
      }
    }
  ],
  "metadata": {
    "language_info": {
      "codemirror_mode": {
        "name": "ipython",
        "version": 2
      },
      "file_extension": ".py",
      "mimetype": "text/x-python",
      "name": "python",
      "nbconvert_exporter": "python",
      "pygments_lexer": "ipython2",
      "version": "2.7.6"
    },
    "kernelspec": {
      "name": "python3",
      "language": "python",
      "display_name": "Python 3"
    },
    "stem_cell": {
      "cell_type": "raw",
      "source": "",
      "metadata": {
        "pycharm": {
          "metadata": false
        }
      }
    }
  },
  "nbformat": 4,
  "nbformat_minor": 0
}