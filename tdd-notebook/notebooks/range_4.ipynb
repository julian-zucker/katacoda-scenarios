{
  "cells": [
    {
      "cell_type": "markdown",
      "source": "Now we\u0027ve done `__len__()`. Next, we\u0027re going to write `intersects()`, which takes another `Range` and returns `True` if the two ranges have at least one element in common. For this one, pick your own tests!\n",
      "metadata": {
        "pycharm": {
          "metadata": false
        }
      }
    },
    {
      "cell_type": "code",
      "execution_count": 24,
      "outputs": [],
      "source": "from math import ceil\nclass Range:\n    def __init__(self, start, end, step):\n        self.start \u003d start\n        self.end \u003d end\n        self.step \u003d step\n    \n    def is_empty(self):\n        return len(self) \u003d\u003d 0\n    \n    def contains(self, item):\n        i \u003d self.start\n        while i \u003c self.end:\n            if i \u003d\u003d item:\n                return True\n            i +\u003d self.step\n        return False\n\n    def __len__(self):\n        return max(0, ceil((self.end - self.start) / self.step)) \n    \n    def intersects(self, other):\n        #######################################################################\n        # Your code goes here!\n        #######################################################################\n        pass\n\n\n# Tests for is_empty     \nassert Range(0, 0, 1).is_empty()\nassert not Range(0, 1, 1).is_empty()\nassert Range(3, 0, 1).is_empty()\n\n# Tests for contains\nassert not Range(0, 3, 1).contains(-1)\nassert Range(0, 3, 1).contains(0)\nassert Range(0, 12, 1).contains(3)\nassert Range(0, 100, 10).contains(10)\nassert not Range(0, 100, 10).contains(11)\nassert not Range(12, 0, 1).contains(1)\n\n# Tests for length\nassert len(Range(0, 0, 1)) \u003d\u003d 0\nassert len(Range(4, 7, 1)) \u003d\u003d 3\nassert len(Range(7, 4, 1)) \u003d\u003d 0\nassert len(Range(3, 4, 8)) \u003d\u003d 1\nassert len(Range(3, 7, 2)) \u003d\u003d 2\nassert len(Range(3, 8, 2)) \u003d\u003d 3\n\n###############################################################################\n# Your tests go here!\n###############################################################################\n",
      "metadata": {
        "pycharm": {
          "metadata": false,
          "name": "#%%\n",
          "is_executing": false
        }
      }
    }
  ],
  "metadata": {
    "language_info": {
      "codemirror_mode": {
        "name": "ipython",
        "version": 2
      },
      "file_extension": ".py",
      "mimetype": "text/x-python",
      "name": "python",
      "nbconvert_exporter": "python",
      "pygments_lexer": "ipython2",
      "version": "2.7.6"
    },
    "kernelspec": {
      "name": "python3",
      "language": "python",
      "display_name": "Python 3"
    },
    "stem_cell": {
      "cell_type": "raw",
      "source": "",
      "metadata": {
        "pycharm": {
          "metadata": false
        }
      }
    }
  },
  "nbformat": 4,
  "nbformat_minor": 0
}