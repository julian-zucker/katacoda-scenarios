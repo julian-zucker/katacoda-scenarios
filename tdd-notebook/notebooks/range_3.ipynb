{
  "cells": [
    {
      "cell_type": "markdown",
      "source": "Now we\u0027ve done `contains()`. The next cell has a working implementation with tests.\n",
      "metadata": {
        "pycharm": {
          "metadata": false
        }
      }
    },
    {
      "cell_type": "code",
      "execution_count": 8,
      "metadata": {
        "collapsed": true,
        "pycharm": {
          "is_executing": false
        }
      },
      "outputs": [],
      "source": "class Range:\n    def __init__(self, start, end, step):\n        self.start \u003d start\n        self.end \u003d end\n        self.step \u003d step\n    \n    def is_empty(self):\n        return self.start \u003e\u003d self.end\n    \n    def contains(self, item):\n        i \u003d self.start\n        while i \u003c self.end:\n            if i \u003d\u003d item:\n                return True\n            i +\u003d self.step\n        return False\n    \n    def __len__(self):\n        #######################################################################\n        # Your code goes here!\n        #######################################################################\n        pass\n\n\n# Tests for is_empty     \nassert Range(0, 0, 1).is_empty()\nassert not Range(0, 1, 1).is_empty()\nassert Range(3, 0, 1).is_empty()\n\n# Tests for contains\nassert not Range(0, 3, 1).contains(-1)\nassert Range(0, 3, 1).contains(0)\nassert Range(0, 12, 1).contains(3)\nassert Range(0, 100, 10).contains(10)\nassert not Range(0, 100, 10).contains(11)\nassert not Range(12, 0, 1).contains(1)\n\n# Tests for length\n###############################################################################\n# Your tests go here!\n###############################################################################\n"
    },
    {
      "cell_type": "markdown",
      "source": "Next, we\u0027re going to write `__len__()`. Write a minimal test, then the code to fix it, then repeat! Here are three tests you should write. But this list is not sufficient! I trust you to come up with and write the rest.\n  - `length` is `0` when `start \u003d\u003d end`\n  - `length` is `3` for a `Range(4, 7, 1)`\n  - `length` is `0` when `end \u003c start`\n  \n  ",
      "metadata": {
        "pycharm": {
          "metadata": false
        }
      }
    },
    {
      "cell_type": "markdown",
      "source": "Once you have implemented `__len__()`, you can refactor! Reimplement `is_empty()` using `__len__()`, then re-run the tests. If the tests pass, you can rest assured that the new implementation and the old one behave the same. ",
      "metadata": {
        "pycharm": {
          "metadata": false
        }
      }
    }
  ],
  "metadata": {
    "language_info": {
      "codemirror_mode": {
        "name": "ipython",
        "version": 2
      },
      "file_extension": ".py",
      "mimetype": "text/x-python",
      "name": "python",
      "nbconvert_exporter": "python",
      "pygments_lexer": "ipython2",
      "version": "2.7.6"
    },
    "kernelspec": {
      "name": "python3",
      "language": "python",
      "display_name": "Python 3"
    },
    "stem_cell": {
      "cell_type": "raw",
      "source": "",
      "metadata": {
        "pycharm": {
          "metadata": false
        }
      }
    }
  },
  "nbformat": 4,
  "nbformat_minor": 0
}