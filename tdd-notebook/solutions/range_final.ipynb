{
  "cells": [
    {
      "cell_type": "markdown",
      "metadata": {
        "collapsed": true,
        "pycharm": {
          "name": "#%% md\n"
        }
      },
      "source": "Here is the final, refactored Range class.\n"
    },
    {
      "cell_type": "code",
      "execution_count": 4,
      "outputs": [],
      "source": "class RangeIterator:\n    def __init__(self, start, end, step):\n        self.val \u003d start\n        self.end \u003d end\n        self.step \u003d step\n    \n    def __iter__(self):\n        return self\n    \n    def __next__(self):\n        \"\"\"Returns the next value, or raises a StopIteration exception\"\"\"\n        if self.val \u003e\u003d self.end:\n            raise StopIteration\n        val \u003d self.val\n        self.val +\u003d self.step\n        return val\n    \n# Some sample tests: you will want to write more\nitr \u003d RangeIterator(0, 3, 1)\nassert next(itr) \u003d\u003d 0\nassert next(itr) \u003d\u003d 1\nassert next(itr) \u003d\u003d 2\n\ntry:\n    # This is one way to write tests for exceptions. Testing frameworks usually have a better way,\n    # but we\u0027re stuck with asserts. It won\u0027t get to the `assert False` if the exception happens.\n    next(itr)\n    assert False\nexcept StopIteration:\n    pass\n\nitr2 \u003d RangeIterator(0, 5, 2)\nassert next(itr2) \u003d\u003d 0\nassert next(itr2) \u003d\u003d 2\nassert next(itr2) \u003d\u003d 4\n\ntry:\n    next(itr2)\n    assert False\nexcept StopIteration:\n    pass\n",
      "metadata": {
        "pycharm": {
          "metadata": false,
          "name": "#%%\n",
          "is_executing": false
        }
      }
    },
    {
      "cell_type": "code",
      "execution_count": 5,
      "outputs": [],
      "source": "from math import ceil\nclass Range:\n    def __init__(self, start, end, step):\n        self.start \u003d start\n        self.end \u003d end\n        self.step \u003d step\n    \n    def is_empty(self):\n        return len(self) \u003d\u003d 0\n    \n    def contains(self, item):\n        return item in self\n\n    def __len__(self):\n        return len([x for x in self]) \n\n    def intersects(self, other):\n        return any(self.contains(i) for i in other)\n        \n    def __iter__(self):\n        return RangeIterator(self.start, self.end, self.step)\n\n\n# Tests \u0027for is_empty     \nassert Range(0, 0, 1).is_empty()\nassert not Range(0, 1, 1).is_empty()\nassert Range(3, 0, 1).is_empty()\n\n# Tests for contains\nassert not Range(0, 3, 1).contains(-1)\nassert Range(0, 3, 1).contains(0)\nassert Range(0, 12, 1).contains(3)\nassert Range(0, 100, 10).contains(10)\nassert not Range(0, 100, 10).contains(11)\n\n# Tests for length\nassert len(Range(0, 0, 1)) \u003d\u003d 0\nassert len(Range(4, 7, 1)) \u003d\u003d 3\nassert len(Range(7, 4, 1)) \u003d\u003d 0\nassert len(Range(3, 4, 8)) \u003d\u003d 1\nassert len(Range(3, 7, 2)) \u003d\u003d 2\nassert len(Range(3, 8, 2)) \u003d\u003d 3\n\n# Tests for intersects\nassert Range(0, 1, 1).intersects(Range(0, 1, 1))\nassert Range(0, 3, 1).intersects(Range(0, 1, 1))\nassert Range(0, 1, 1).intersects(Range(0, 3, 1))\nassert Range(0, 3, 1).intersects(Range(0, 3, 1))\nassert not Range(1, 2, 1).intersects(Range(0, 1, 1))\nassert not Range(1, 5, 2).intersects(Range(2, 2, 1))\nassert not Range(1, 5, 2).intersects(Range(2, 3, 1))\nassert Range(1, 7, 3).intersects(Range(4, 5, 3))\nassert not Range(1, 7, 3).intersects(Range(4, 4, 3))\n\n# Tests for __iter__\n# We only need a minimal test here, because the RangeIterator is tested above!\nitr \u003d iter(Range(1,4,2))\nassert next(itr) \u003d\u003d 1\nassert next(itr) \u003d\u003d 3\ntry:\n    next(itr)\n    assert False\nexcept StopIteration:\n    pass\n\n# Make sure it works in for loops: This is the whole point!\nfor i in Range(1,4,2):\n    assert i \u003d\u003d 1\n    break",
      "metadata": {
        "pycharm": {
          "metadata": false,
          "name": "#%%\n",
          "is_executing": false
        }
      }
    }
  ],
  "metadata": {
    "language_info": {
      "codemirror_mode": {
        "name": "ipython",
        "version": 2
      },
      "file_extension": ".py",
      "mimetype": "text/x-python",
      "name": "python",
      "nbconvert_exporter": "python",
      "pygments_lexer": "ipython2",
      "version": "2.7.6"
    },
    "kernelspec": {
      "name": "python3",
      "language": "python",
      "display_name": "Python 3"
    }
  },
  "nbformat": 4,
  "nbformat_minor": 0
}